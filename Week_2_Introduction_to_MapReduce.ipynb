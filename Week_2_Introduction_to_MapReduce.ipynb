{
  "nbformat": 4,
  "nbformat_minor": 0,
  "metadata": {
    "colab": {
      "name": "Week 2 - Introduction to MapReduce.ipynb",
      "provenance": [],
      "collapsed_sections": []
    },
    "kernelspec": {
      "name": "python3",
      "display_name": "Python 3"
    },
    "language_info": {
      "name": "python"
    }
  },
  "cells": [
    {
      "cell_type": "markdown",
      "metadata": {
        "id": "ZQ7wk9AR-Nb6"
      },
      "source": [
        "<center><img src=\"https://drive.google.com/uc?export=view&id=1ia67jZrMZx4V45HYDM7pxcoZrPJE-NMP\" alt=\"PSUT\"  width=\"180px\">  \n",
        "<p> \n",
        "King Hussein School for Computing Sciences <br>\n",
        "Department of Data Science <br>\n",
        "High Performance Computing for Big Data <br>\n",
        "Week 2 - Introduction to MapReduce\n",
        "</p></center>\n",
        "\n"
      ]
    },
    {
      "cell_type": "markdown",
      "source": [
        "# Object Oriented Programing with Python "
      ],
      "metadata": {
        "id": "cks9J2Gz0XWL"
      }
    },
    {
      "cell_type": "code",
      "source": [
        "import pandas as pd \n",
        "\n",
        "class MyFunctions:\n",
        "\n",
        "  def __init__(self,var1,var2):\n",
        "    self.x=var1\n",
        "    self.y=var2\n",
        "  def squrex(self):\n",
        "    return self.x*self.x\n",
        "  def squrey(self):\n",
        "    return self.y*self.y\n",
        "\n",
        "A=MyFunctions(4,5) \n",
        "print(A.squrex())\n",
        "print(A.squrey())\n",
        "\n",
        "\n",
        "class MathOper:                             \n",
        "  def __init__(self,x):                             \n",
        "    self.x = x\n",
        "\n",
        "  def Square(self):\n",
        "    return self.x*self.x\n",
        "\n",
        "  def power3(self):\n",
        "    return self.x*self.x*self.x\n",
        "\n",
        "\n",
        "Inst=MathOper(3)\n",
        "\n",
        "print(Inst.Square())\n",
        "print(Inst.power3())\n"
      ],
      "metadata": {
        "id": "Lx23R9la0cw7"
      },
      "execution_count": null,
      "outputs": []
    },
    {
      "cell_type": "markdown",
      "source": [
        "# Python map function\n",
        "\n",
        "* `map()` function returns a map object(which is an iterator) of the results after applying the given function to each item of a given iterable (list, tuple etc.)\n",
        "````\n",
        "map(fun, iter)\n",
        "````\n",
        "* A `lambda` function is a small anonymous function.\n",
        "* A `lambda` function can take any number of arguments, but can only have one expression.\n",
        "````\n",
        "lambda arguments : expression\n",
        "````"
      ],
      "metadata": {
        "id": "2QYYBBcH0oiX"
      }
    },
    {
      "cell_type": "code",
      "source": [
        "list(map(lambda x:x+5,[1,2,3]))"
      ],
      "metadata": {
        "id": "KgVJk1f70pmy"
      },
      "execution_count": null,
      "outputs": []
    },
    {
      "cell_type": "code",
      "source": [
        "L=list(range(-10,10))\n",
        "\n",
        "# Using def to define the function \n",
        "def MapFunc(x):\n",
        "  return x+7\n",
        "\n",
        "# Using Lambda function \n",
        "MapFunc= lambda x: x+7\n",
        "\n",
        "# appling the function with loop \n",
        "L_new=[]\n",
        "for num in L:\n",
        "  L_new.append(MapFunc(num))\n",
        "print(L_new)\n",
        "\n",
        "# appling the function with map \n",
        "L_new=list(map(MapFunc,L))\n",
        "print(L_new)\n"
      ],
      "metadata": {
        "id": "aGbq1oY60re_"
      },
      "execution_count": null,
      "outputs": []
    },
    {
      "cell_type": "markdown",
      "source": [
        "# Parallelizing map with multiprocessor library\n",
        "\n",
        "`multiprocessing` is a package that supports spawning processes using an API similar to the threading module. "
      ],
      "metadata": {
        "id": "SMDB0N1Z1ajt"
      }
    },
    {
      "cell_type": "code",
      "source": [
        "import os\n",
        "\n",
        "os.cpu_count()"
      ],
      "metadata": {
        "colab": {
          "base_uri": "https://localhost:8080/"
        },
        "id": "DXLZclgKHi1K",
        "outputId": "5ff769c0-0ba0-4467-9f38-ca711b6719b2"
      },
      "execution_count": null,
      "outputs": [
        {
          "output_type": "execute_result",
          "data": {
            "text/plain": [
              "2"
            ]
          },
          "metadata": {},
          "execution_count": 1
        }
      ]
    },
    {
      "cell_type": "code",
      "source": [
        "L=list(range(-10,10))\n",
        "\n",
        "# Using def to define the function \n",
        "def MapFunc(x):\n",
        "  return x+7\n",
        "\n",
        "\n",
        "from multiprocessing import Pool\n",
        "\n",
        "with Pool() as P:                               \n",
        "  results = P.map(MapFunc, L)\n",
        "\n",
        "print(results)"
      ],
      "metadata": {
        "colab": {
          "base_uri": "https://localhost:8080/"
        },
        "id": "fr5kyXwb1f97",
        "outputId": "843d179c-1df9-444a-cf21-76f61a895734"
      },
      "execution_count": null,
      "outputs": [
        {
          "output_type": "stream",
          "name": "stdout",
          "text": [
            "[-3, -2, -1, 0, 1, 2, 3, 4, 5, 6, 7, 8, 9, 10, 11, 12, 13, 14, 15, 16]\n"
          ]
        }
      ]
    },
    {
      "cell_type": "markdown",
      "source": [
        "##  map vs map_async\n",
        "\n",
        "\n",
        "* `map` is blocking. It will wait for all function calls to finish so we see all the prints in a row. \n",
        "* ` map_async` is non-blocking. It will execute the fucntion calls asynchronously and only block when r.wait()."
      ],
      "metadata": {
        "id": "gvKNXUEj1o6K"
      }
    },
    {
      "cell_type": "code",
      "source": [
        "from multiprocessing import Pool\n",
        "\n",
        "def f(x):\n",
        "    print (x*x)\n",
        "\n",
        "\"\"\"\n",
        "Assigning processeser for the job \n",
        "\"\"\"\n",
        "pool = Pool(processes=4)\n",
        "\n",
        "\"\"\"\n",
        "map is blocking. \n",
        "It will wait for all 10 of those function calls \n",
        "to finish so we see all the prints in a row. \n",
        "\"\"\"\n",
        "pool.map(f, range(10))  \n",
        "\n",
        "\"\"\"\n",
        "map_async is non-blocking\n",
        "r = pool.map_async(f, range(10)) will execute\n",
        "them asynchronously and only block when r.wait() \n",
        "is called so we see HERE and MORE in between but\n",
        "DONE will always be at the end.\n",
        "\"\"\"\n",
        "\n",
        "r = pool.map_async(f, range(10))\n",
        "print ('HERE')\n",
        "print ('MORE')\n",
        "\n",
        "\"\"\"\n",
        "Blocking with wait  \n",
        "\"\"\"\n",
        "r.wait()\n",
        "print ('DONE')"
      ],
      "metadata": {
        "colab": {
          "base_uri": "https://localhost:8080/"
        },
        "id": "k_KYguxu3W81",
        "outputId": "9afb7517-5e76-43a9-cdc4-c59b6ef0cbb0"
      },
      "execution_count": null,
      "outputs": [
        {
          "output_type": "stream",
          "name": "stdout",
          "text": [
            "1\n",
            "0\n",
            "16\n",
            "25\n",
            "4\n",
            "9\n",
            "64\n",
            "36\n",
            "81\n",
            "49\n",
            "1\n",
            "0\n",
            "25\n",
            "4\n",
            "9\n",
            "49\n",
            "36\n",
            "81\n",
            "16\n",
            "64\n",
            "HERE\n",
            "MORE\n",
            "DONE\n"
          ]
        }
      ]
    },
    {
      "cell_type": "markdown",
      "source": [
        "# Check the resources in your system (CPU, RAM, HD) "
      ],
      "metadata": {
        "id": "bY-JzNsA4Rqi"
      }
    },
    {
      "cell_type": "code",
      "source": [
        "!python -c \"import os; print(os.cpu_count())\""
      ],
      "metadata": {
        "id": "gzAzbzbI4Sik"
      },
      "execution_count": null,
      "outputs": []
    },
    {
      "cell_type": "code",
      "source": [
        "# Number of processing units with os\n",
        "import os \n",
        "print(os.cpu_count())\n",
        "\n",
        "\n",
        "# Disk information \n",
        "#!df -h .\n",
        "# CPU specs \n",
        "#!cat /proc/cpuinfo\n",
        "# For memory, \n",
        "#!cat /proc/meminfo"
      ],
      "metadata": {
        "id": "uIEh3dkA4UwR"
      },
      "execution_count": null,
      "outputs": []
    },
    {
      "cell_type": "markdown",
      "source": [
        "# Map Funtion Example (Formating Phone Numbers)"
      ],
      "metadata": {
        "id": "G-a-XlG14eVO"
      }
    },
    {
      "cell_type": "markdown",
      "source": [
        "## Regular Expressions"
      ],
      "metadata": {
        "id": "-Y55QSpJ4pWn"
      }
    },
    {
      "cell_type": "code",
      "source": [
        "import re\n",
        "\n",
        "R = re.compile(r\"\\d\")   \n",
        "\n",
        "X='I as smart as 99 years old but as young as 19'\n",
        "\n",
        "print(R.findall(X))\n",
        "\n",
        "R = re.compile(r\"\\d+\")   \n",
        "\n",
        "X='I as smart as 99 years old but as young as 19'\n",
        "\n",
        "print(R.findall(X))\n"
      ],
      "metadata": {
        "id": "w_Ga0MMx4uvP"
      },
      "execution_count": null,
      "outputs": []
    },
    {
      "cell_type": "markdown",
      "source": [
        "## Fromating Phone Number using for loop"
      ],
      "metadata": {
        "id": "gD3xWzgo44sj"
      }
    },
    {
      "cell_type": "code",
      "source": [
        "import re\n",
        "\n",
        "phone_numbers = [\n",
        "    \"(123) 456-7890\",\n",
        "    \"1234567890\",\n",
        "    \"123.456.7890\",\n",
        "    \"+1 123 456-7890\",\n",
        "    \"+1 (1-2-3) 456-7890\"\n",
        "]\n",
        "\n",
        "new_numbers = []\n",
        "\n",
        "R = re.compile(r\"\\d\")  \n",
        "\n",
        "digits = R.findall(phone_numbers[0])\n",
        "\n",
        "print(digits)"
      ],
      "metadata": {
        "id": "3sVhEH3y4-KK"
      },
      "execution_count": null,
      "outputs": []
    },
    {
      "cell_type": "code",
      "source": [
        "area_code = \"\".join(digits[-10:-7])         \n",
        "first_3 = \"\".join(digits[-7:-4])\n",
        "last_4 = \"\".join(digits[-4:len(digits)])\n",
        "\n",
        "pretty_format = f\"({area_code}) {first_3}-{last_4}\"\n",
        "pretty_format"
      ],
      "metadata": {
        "id": "vs7JOUkd5FP1"
      },
      "execution_count": null,
      "outputs": []
    },
    {
      "cell_type": "code",
      "source": [
        "import re\n",
        "\n",
        "phone_numbers = [\n",
        "    \"(123) 456-7890\",\n",
        "    \"1234567890\",\n",
        "    \"123.456.7890\",\n",
        "    \"+1 123 456-7890\",\n",
        "    \"+1 (1-2-3) 456-7890\"\n",
        "]\n",
        "\n",
        "new_numbers = []\n",
        "\n",
        "R = re.compile(r\"\\d\")                         \n",
        "\n",
        "for number in phone_numbers:                \n",
        "  digits = R.findall(number)\n",
        "\n",
        "\n",
        "  area_code = \"\".join(digits[-10:-7])         \n",
        "  first_3 = \"\".join(digits[-7:-4])\n",
        "  last_4 = \"\".join(digits[-4:len(digits)])\n",
        "\n",
        "  pretty_format = \"({}) {}-{}\".format(area_code,first_3,last_4) \n",
        "  \n",
        "  print(pretty_format)\n",
        "  new_numbers.append(pretty_format)   \n"
      ],
      "metadata": {
        "id": "H_akCZao5JCR"
      },
      "execution_count": null,
      "outputs": []
    },
    {
      "cell_type": "code",
      "source": [
        "new_numbers"
      ],
      "metadata": {
        "id": "bY-_TxLb5Peg"
      },
      "execution_count": null,
      "outputs": []
    },
    {
      "cell_type": "markdown",
      "source": [
        "## Fromating Phone Number using class and map Function"
      ],
      "metadata": {
        "id": "AsS4A4na5b0G"
      }
    },
    {
      "cell_type": "code",
      "source": [
        "import re\n",
        "\n",
        "class PhoneFormatter:                             \n",
        "  def __init__(self):                             \n",
        "    self.r = re.compile(r\"\\d\")\n",
        "\n",
        "  def pretty_format(self, phone_number):           \n",
        "    phone_numbers = self.r.findall(phone_number)\n",
        "    area_code = \"\".join(phone_numbers[-10:-7])     \n",
        "    first_3 = \"\".join(phone_numbers[-7:-4])\n",
        "    last_4 = \"\".join(phone_numbers[-4:len(phone_numbers)])\n",
        "    return \"({}) {}-{}\".format(area_code, first_3, last_4)     "
      ],
      "metadata": {
        "id": "2hW-aRUA5nwi"
      },
      "execution_count": null,
      "outputs": []
    },
    {
      "cell_type": "code",
      "source": [
        "phone_numbers = [                                  \n",
        "  \"(123) 456-7890\",\n",
        "  \"1234567890\",\n",
        "  \"123.456.7890\",\n",
        "  \"+1 123 456-7890\"\n",
        "]\n",
        "\n",
        "P = PhoneFormatter ()                              \n",
        "print(list(map(P.pretty_format, phone_numbers)))    "
      ],
      "metadata": {
        "id": "MPdnIHgi5oVI"
      },
      "execution_count": null,
      "outputs": []
    },
    {
      "cell_type": "markdown",
      "source": [
        "## Using Multiprocessing Pool and map to Run the Task"
      ],
      "metadata": {
        "id": "Q8FC6eAr54rq"
      }
    },
    {
      "cell_type": "code",
      "source": [
        "import multiprocessing\n",
        "import re\n",
        "\n",
        "import re\n",
        "class PhoneFormatter:                             \n",
        "  def __init__(self):                             \n",
        "    self.r = re.compile(r\"\\d\")\n",
        "  def pretty_format(self, phone_number):           \n",
        "    phone_numbers = self.r.findall(phone_number)\n",
        "    area_code = \"\".join(phone_numbers[-10:-7])     \n",
        "    first_3 = \"\".join(phone_numbers[-7:-4])\n",
        "    last_4 = \"\".join(phone_numbers[-4:len(phone_numbers)])\n",
        "    return \"({}) {}-{}\".format(area_code, first_3, last_4)   \n",
        "\n",
        "phone_numbers = [\"(123) 456-7890\",\"1234567890\",\"123.456.7890\",\"+1 123 456-7890\"]\n",
        "\n",
        "N = PhoneFormatter ()         \n",
        "\n",
        "from multiprocessing import Pool\n",
        "with Pool() as P:                               \n",
        "  Numbers = P.map(N.pretty_format, phone_numbers)  \n",
        "\n",
        "print(Numbers)                     "
      ],
      "metadata": {
        "id": "-_Qlym9Y57ll"
      },
      "execution_count": null,
      "outputs": []
    },
    {
      "cell_type": "markdown",
      "source": [
        "# Using pathos to be able to Pickle lambda Functions "
      ],
      "metadata": {
        "id": "8KblVy2J6I66"
      }
    },
    {
      "cell_type": "code",
      "source": [
        "from multiprocessing import Pool\n",
        "\n",
        "def f1(x):\n",
        "  return x**2 \n",
        "\n",
        "f2=lambda x :  x**2\n",
        "\n",
        "\"\"\"\n",
        "Assigning processeser for the job \n",
        "\"\"\"\n",
        "pool = Pool(processes=4)\n",
        "\n",
        "\n",
        "\"\"\"\n",
        "Run the job on the prcessors using map \n",
        "\"\"\"\n",
        "pool.map(f1, range(10))  "
      ],
      "metadata": {
        "id": "HuVAH5bo6U8f"
      },
      "execution_count": null,
      "outputs": []
    },
    {
      "cell_type": "code",
      "source": [
        "!pip install pathos"
      ],
      "metadata": {
        "id": "uRCuDwz66TOi"
      },
      "execution_count": null,
      "outputs": []
    },
    {
      "cell_type": "code",
      "source": [
        "# !pip install pathos \n",
        "from pathos.multiprocessing import ProcessPool\n",
        "\n",
        "def f1(x):\n",
        "  return x**2 \n",
        "\n",
        "f2=lambda x :  x**2\n",
        "\n",
        "\"\"\"\n",
        "Assigning processeser for the job \n",
        "\"\"\"\n",
        "pool = ProcessPool(processes=4)\n",
        "\n",
        "\"\"\"\n",
        "Run the job on the prcessors using map \n",
        "\"\"\"\n",
        "pool.map(f2, range(10))"
      ],
      "metadata": {
        "id": "N46-kKlW6Zi6",
        "colab": {
          "base_uri": "https://localhost:8080/"
        },
        "outputId": "9e8db042-2a0c-410d-9573-b9136a4f6754"
      },
      "execution_count": 1,
      "outputs": [
        {
          "output_type": "stream",
          "name": "stdout",
          "text": [
            "Collecting pathos\n",
            "  Downloading pathos-0.2.8-py2.py3-none-any.whl (81 kB)\n",
            "\u001b[?25l\r\u001b[K     |████                            | 10 kB 18.3 MB/s eta 0:00:01\r\u001b[K     |████████                        | 20 kB 11.5 MB/s eta 0:00:01\r\u001b[K     |████████████                    | 30 kB 9.6 MB/s eta 0:00:01\r\u001b[K     |████████████████                | 40 kB 8.5 MB/s eta 0:00:01\r\u001b[K     |████████████████████            | 51 kB 4.7 MB/s eta 0:00:01\r\u001b[K     |████████████████████████        | 61 kB 5.4 MB/s eta 0:00:01\r\u001b[K     |████████████████████████████    | 71 kB 5.7 MB/s eta 0:00:01\r\u001b[K     |████████████████████████████████| 81 kB 3.9 MB/s \n",
            "\u001b[?25hRequirement already satisfied: dill>=0.3.4 in /usr/local/lib/python3.7/dist-packages (from pathos) (0.3.4)\n",
            "Requirement already satisfied: multiprocess>=0.70.12 in /usr/local/lib/python3.7/dist-packages (from pathos) (0.70.12.2)\n",
            "Collecting ppft>=1.6.6.4\n",
            "  Downloading ppft-1.6.6.4-py3-none-any.whl (65 kB)\n",
            "\u001b[K     |████████████████████████████████| 65 kB 2.9 MB/s \n",
            "\u001b[?25hCollecting pox>=0.3.0\n",
            "  Downloading pox-0.3.0-py2.py3-none-any.whl (30 kB)\n",
            "Requirement already satisfied: six>=1.7.3 in /usr/local/lib/python3.7/dist-packages (from ppft>=1.6.6.4->pathos) (1.15.0)\n",
            "Installing collected packages: ppft, pox, pathos\n",
            "Successfully installed pathos-0.2.8 pox-0.3.0 ppft-1.6.6.4\n"
          ]
        },
        {
          "output_type": "execute_result",
          "data": {
            "text/plain": [
              "[0, 1, 4, 9, 16, 25, 36, 49, 64, 81]"
            ]
          },
          "metadata": {},
          "execution_count": 1
        }
      ]
    }
  ]
}